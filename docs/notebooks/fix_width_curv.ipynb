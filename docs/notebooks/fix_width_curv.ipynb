{
 "metadata": {
  "language_info": {
   "codemirror_mode": {
    "name": "ipython",
    "version": 3
   },
   "file_extension": ".py",
   "mimetype": "text/x-python",
   "name": "python",
   "nbconvert_exporter": "python",
   "pygments_lexer": "ipython3",
   "version": 3
  },
  "orig_nbformat": 2
 },
 "nbformat": 4,
 "nbformat_minor": 2,
 "cells": [
  {
   "source": [
    "# Fixed-width curvilinear Swath profile "
   ],
   "cell_type": "markdown",
   "metadata": {}
  },
  {
   "source": [
    "Fixed-width curvilinear swath profile also refers to traditional swath profile, which typically stacking a set of equally paralleled profile lines within a swath shape, or band, from which the elevation or other types of data (e.g., precipitation, relief, roughness, etc.) are sampled. Runing fixed-width swath analysis in PyOSP follows simple workflow. Here, we use a synthetic case to illustrate the implementation steps.\n",
    "\n",
    "Figure below shows an artificial mountain range with a homogeneous width (90m) above the flat ground (0m).  "
   ],
   "cell_type": "markdown",
   "metadata": {}
  },
  {
   "source": [],
   "cell_type": "markdown",
   "metadata": {}
  }
 ]
}